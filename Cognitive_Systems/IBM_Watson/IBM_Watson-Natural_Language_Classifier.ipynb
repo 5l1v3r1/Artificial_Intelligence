{
 "cells": [
  {
   "cell_type": "markdown",
   "metadata": {},
   "source": [
    "# IBM Watson Natural Language Classifier"
   ]
  },
  {
   "cell_type": "markdown",
   "metadata": {},
   "source": [
    "## Leitura da api-key\n",
    "### Acesse: https://console.bluemix.net/catalog/?search=label:lite&category=ai\n",
    "### E Crie a api-key do aplicativo: Natural Language Classifier"
   ]
  },
  {
   "cell_type": "code",
   "execution_count": null,
   "metadata": {},
   "outputs": [],
   "source": [
    "# descompacte o arquivo api-keys.zip\n",
    "#!unzip api-keys.zip # forneça a senha"
   ]
  },
  {
   "cell_type": "code",
   "execution_count": 3,
   "metadata": {},
   "outputs": [],
   "source": [
    "import json\n",
    "def read_apikey():\n",
    "    with open('data/apikey-nl.json', 'r') as f:\n",
    "        key = json.load(f)\n",
    "        #print(key)\n",
    "    return key['API_KEY']\n",
    "#read_apikey()"
   ]
  },
  {
   "cell_type": "markdown",
   "metadata": {},
   "source": [
    "# IBM Watson Natural Language Classifier"
   ]
  },
  {
   "cell_type": "code",
   "execution_count": 4,
   "metadata": {},
   "outputs": [
    {
     "name": "stderr",
     "output_type": "stream",
     "text": [
      "/Users/vladimiralencar/anaconda3/lib/python3.7/site-packages/ipykernel_launcher.py:11: DeprecationWarning: watson-developer-cloud moved to ibm-watson. To get updates, use the new package.\n",
      "  # This is added back by InteractiveShellApp.init_path()\n"
     ]
    },
    {
     "name": "stdout",
     "output_type": "stream",
     "text": [
      "{\n",
      "  \"usage\": {\n",
      "    \"text_units\": 1,\n",
      "    \"text_characters\": 1162,\n",
      "    \"features\": 1\n",
      "  },\n",
      "  \"retrieved_url\": \"https://www.ibm.com/us-en/?ar=1\",\n",
      "  \"language\": \"en\",\n",
      "  \"categories\": [\n",
      "    {\n",
      "      \"score\": 0.956682,\n",
      "      \"label\": \"/business and industrial/energy/oil/oil company\"\n",
      "    },\n",
      "    {\n",
      "      \"score\": 0.903691,\n",
      "      \"label\": \"/technology and computing/operating systems\"\n",
      "    },\n",
      "    {\n",
      "      \"score\": 0.789727,\n",
      "      \"label\": \"/technology and computing/hardware/computer\"\n",
      "    }\n",
      "  ]\n",
      "}\n"
     ]
    }
   ],
   "source": [
    "import json\n",
    "from watson_developer_cloud import NaturalLanguageUnderstandingV1\n",
    "from watson_developer_cloud.natural_language_understanding_v1 import Features, CategoriesOptions\n",
    "\n",
    "import warnings\n",
    "warnings.filterwarnings('ignore')\n",
    "\n",
    "natural_language_understanding = NaturalLanguageUnderstandingV1(\n",
    "    version='2018-11-16',\n",
    "    iam_apikey=read_apikey(),\n",
    "    url='https://gateway.watsonplatform.net/natural-language-understanding/api'\n",
    ")\n",
    "\n",
    "response = natural_language_understanding.analyze(\n",
    "    url='www.ibm.com',\n",
    "    features=Features(categories=CategoriesOptions(limit=3))).get_result()\n",
    "\n",
    "print(json.dumps(response, indent=2))"
   ]
  },
  {
   "cell_type": "code",
   "execution_count": 5,
   "metadata": {},
   "outputs": [
    {
     "name": "stdout",
     "output_type": "stream",
     "text": [
      "{\n",
      "  \"usage\": {\n",
      "    \"text_units\": 1,\n",
      "    \"text_characters\": 723,\n",
      "    \"features\": 1\n",
      "  },\n",
      "  \"retrieved_url\": \"https://www.valencar.com/\",\n",
      "  \"language\": \"en\",\n",
      "  \"categories\": [\n",
      "    {\n",
      "      \"score\": 0.953078,\n",
      "      \"label\": \"/science/computer science\"\n",
      "    },\n",
      "    {\n",
      "      \"score\": 0.913267,\n",
      "      \"label\": \"/science/computer science/artificial intelligence\"\n",
      "    },\n",
      "    {\n",
      "      \"score\": 0.825823,\n",
      "      \"label\": \"/technology and computing/software/databases\"\n",
      "    }\n",
      "  ]\n",
      "}\n"
     ]
    }
   ],
   "source": [
    "response = natural_language_understanding.analyze(\n",
    "    url='www.valencar.com',\n",
    "    features=Features(categories=CategoriesOptions(limit=3))).get_result()\n",
    "\n",
    "print(json.dumps(response, indent=2))"
   ]
  },
  {
   "cell_type": "code",
   "execution_count": 6,
   "metadata": {},
   "outputs": [
    {
     "name": "stdout",
     "output_type": "stream",
     "text": [
      "{\n",
      "  \"usage\": {\n",
      "    \"text_units\": 1,\n",
      "    \"text_characters\": 809,\n",
      "    \"features\": 1\n",
      "  },\n",
      "  \"retrieved_url\": \"https://www.uol.com.br/\",\n",
      "  \"language\": \"pt\",\n",
      "  \"categories\": [\n",
      "    {\n",
      "      \"score\": 0.716884,\n",
      "      \"label\": \"/society/unrest and war\"\n",
      "    },\n",
      "    {\n",
      "      \"score\": 0.654661,\n",
      "      \"label\": \"/sports/wrestling\"\n",
      "    },\n",
      "    {\n",
      "      \"score\": 0.644485,\n",
      "      \"label\": \"/sports/soccer\"\n",
      "    }\n",
      "  ]\n",
      "}\n"
     ]
    }
   ],
   "source": [
    "response = natural_language_understanding.analyze(\n",
    "    url='www.uol.com.br',\n",
    "    features=Features(categories=CategoriesOptions(limit=3))).get_result()\n",
    "\n",
    "print(json.dumps(response, indent=2))"
   ]
  },
  {
   "cell_type": "code",
   "execution_count": 7,
   "metadata": {},
   "outputs": [
    {
     "name": "stdout",
     "output_type": "stream",
     "text": [
      "{\n",
      "  \"usage\": {\n",
      "    \"text_units\": 1,\n",
      "    \"text_characters\": 3020,\n",
      "    \"features\": 1\n",
      "  },\n",
      "  \"retrieved_url\": \"https://www.cnn.com/\",\n",
      "  \"language\": \"en\",\n",
      "  \"categories\": [\n",
      "    {\n",
      "      \"score\": 0.926516,\n",
      "      \"label\": \"/news/national news\"\n",
      "    },\n",
      "    {\n",
      "      \"score\": 0.919067,\n",
      "      \"label\": \"/business and industrial/business news\"\n",
      "    },\n",
      "    {\n",
      "      \"score\": 0.895719,\n",
      "      \"label\": \"/art and entertainment/movies and tv/television\"\n",
      "    }\n",
      "  ]\n",
      "}\n"
     ]
    }
   ],
   "source": [
    "response = natural_language_understanding.analyze(\n",
    "    url='www.cnn.com',\n",
    "    features=Features(categories=CategoriesOptions(limit=3))).get_result()\n",
    "\n",
    "print(json.dumps(response, indent=2))"
   ]
  },
  {
   "cell_type": "code",
   "execution_count": 8,
   "metadata": {},
   "outputs": [
    {
     "name": "stdout",
     "output_type": "stream",
     "text": [
      "{\n",
      "  \"usage\": {\n",
      "    \"text_units\": 1,\n",
      "    \"text_characters\": 71,\n",
      "    \"features\": 1\n",
      "  },\n",
      "  \"relations\": [\n",
      "    {\n",
      "      \"type\": \"awardedTo\",\n",
      "      \"sentence\": \"Leonardo DiCaprio won Best Actor in a Leading Role for his performance.\",\n",
      "      \"score\": 0.680715,\n",
      "      \"arguments\": [\n",
      "        {\n",
      "          \"text\": \"Best Actor\",\n",
      "          \"location\": [\n",
      "            22,\n",
      "            32\n",
      "          ],\n",
      "          \"entities\": [\n",
      "            {\n",
      "              \"type\": \"EntertainmentAward\",\n",
      "              \"text\": \"Best Actor\"\n",
      "            }\n",
      "          ]\n",
      "        },\n",
      "        {\n",
      "          \"text\": \"Leonardo DiCaprio\",\n",
      "          \"location\": [\n",
      "            0,\n",
      "            17\n",
      "          ],\n",
      "          \"entities\": [\n",
      "            {\n",
      "              \"type\": \"Person\",\n",
      "              \"text\": \"Leonardo DiCaprio\"\n",
      "            }\n",
      "          ]\n",
      "        }\n",
      "      ]\n",
      "    }\n",
      "  ],\n",
      "  \"language\": \"en\"\n",
      "}\n"
     ]
    }
   ],
   "source": [
    "import json\n",
    "from watson_developer_cloud import NaturalLanguageUnderstandingV1\n",
    "from watson_developer_cloud.natural_language_understanding_v1 import Features, RelationsOptions\n",
    "\n",
    "response = natural_language_understanding.analyze(\n",
    "    text='Leonardo DiCaprio won Best Actor in a Leading Role for his performance.',\n",
    "    features=Features(relations=RelationsOptions())).get_result()\n",
    "\n",
    "print(json.dumps(response, indent=2))"
   ]
  },
  {
   "cell_type": "code",
   "execution_count": 10,
   "metadata": {},
   "outputs": [
    {
     "name": "stdout",
     "output_type": "stream",
     "text": [
      "{\n",
      "  \"usage\": {\n",
      "    \"text_units\": 1,\n",
      "    \"text_characters\": 1794,\n",
      "    \"features\": 1\n",
      "  },\n",
      "  \"language\": \"en\",\n",
      "  \"categories\": [\n",
      "    {\n",
      "      \"score\": 0.867261,\n",
      "      \"label\": \"/science/weather\"\n",
      "    },\n",
      "    {\n",
      "      \"score\": 0.653328,\n",
      "      \"label\": \"/science/weather/meteorological disaster/flood\"\n",
      "    }\n",
      "  ]\n",
      "}\n"
     ]
    }
   ],
   "source": [
    "file='data/weather_data_train.csv'\n",
    "response = natural_language_understanding.analyze(\n",
    "    text= open(file, \"r\").read(),\n",
    "    features=Features(categories=CategoriesOptions(limit=3))).get_result()\n",
    "\n",
    "print(json.dumps(response, indent=2))"
   ]
  },
  {
   "cell_type": "code",
   "execution_count": 11,
   "metadata": {},
   "outputs": [
    {
     "name": "stdout",
     "output_type": "stream",
     "text": [
      "{\n",
      "  \"usage\": {\n",
      "    \"text_units\": 1,\n",
      "    \"text_characters\": 840,\n",
      "    \"features\": 1\n",
      "  },\n",
      "  \"language\": \"en\",\n",
      "  \"categories\": [\n",
      "    {\n",
      "      \"score\": 0.957243,\n",
      "      \"label\": \"/education/school\"\n",
      "    },\n",
      "    {\n",
      "      \"score\": 0.899882,\n",
      "      \"label\": \"/art and entertainment/books and literature\"\n",
      "    },\n",
      "    {\n",
      "      \"score\": 0.839497,\n",
      "      \"label\": \"/education/teaching and classroom resources\"\n",
      "    }\n",
      "  ]\n",
      "}\n"
     ]
    }
   ],
   "source": [
    "file='data/personality-01.txt'\n",
    "response = natural_language_understanding.analyze(\n",
    "    text= open(file, \"r\").read(),\n",
    "    features=Features(categories=CategoriesOptions(limit=3))).get_result()\n",
    "\n",
    "print(json.dumps(response, indent=2))"
   ]
  },
  {
   "cell_type": "markdown",
   "metadata": {},
   "source": [
    "# Request Emotions"
   ]
  },
  {
   "cell_type": "code",
   "execution_count": 13,
   "metadata": {},
   "outputs": [
    {
     "name": "stdout",
     "output_type": "stream",
     "text": [
      "About libraries \r\n",
      "\r\n",
      "There are many big and small libraries everywhere in our country. They have millions of books in different languages. You can find there the oldest and the newest books. \r\n",
      "Every school has a library. Pupils come to the library to take books on different subjects. \r\n",
      "The school library where Oleg studies is good. It is a large clean room. There are four big windows in it. The walls are light blue. There are a lot of shelves full of books. You can find books on literature, physics, history, chemistry, geography, biology and other subjects. There are books in English, too. \r\n",
      "On the walls you can see pictures of some great writers and poets. \r\n",
      "On the table near the window you can always see beautiful spring and autumn flowers. \r\n",
      "Oleg likes to go to the library. He can always find there something new, something he needs. "
     ]
    }
   ],
   "source": [
    "!cat data/personality-01.txt"
   ]
  },
  {
   "cell_type": "code",
   "execution_count": 15,
   "metadata": {},
   "outputs": [
    {
     "name": "stdout",
     "output_type": "stream",
     "text": [
      "{\n",
      "  \"usage\": {\n",
      "    \"text_units\": 1,\n",
      "    \"text_characters\": 840,\n",
      "    \"features\": 1\n",
      "  },\n",
      "  \"language\": \"en\",\n",
      "  \"emotion\": {\n",
      "    \"targets\": [\n",
      "      {\n",
      "        \"text\": \"libraries\",\n",
      "        \"emotion\": {\n",
      "          \"sadness\": 0.216387,\n",
      "          \"joy\": 0.102566,\n",
      "          \"fear\": 0.222706,\n",
      "          \"disgust\": 0.083673,\n",
      "          \"anger\": 0.106878\n",
      "        }\n",
      "      },\n",
      "      {\n",
      "        \"text\": \"books\",\n",
      "        \"emotion\": {\n",
      "          \"sadness\": 0.189437,\n",
      "          \"joy\": 0.642661,\n",
      "          \"fear\": 0.082116,\n",
      "          \"disgust\": 0.059611,\n",
      "          \"anger\": 0.064606\n",
      "        }\n",
      "      }\n",
      "    ],\n",
      "    \"document\": {\n",
      "      \"emotion\": {\n",
      "        \"sadness\": 0.151897,\n",
      "        \"joy\": 0.628327,\n",
      "        \"fear\": 0.127012,\n",
      "        \"disgust\": 0.052046,\n",
      "        \"anger\": 0.090818\n",
      "      }\n",
      "    }\n",
      "  }\n",
      "}\n"
     ]
    }
   ],
   "source": [
    "import json\n",
    "from watson_developer_cloud import NaturalLanguageUnderstandingV1\n",
    "from watson_developer_cloud.natural_language_understanding_v1 import Features, EmotionOptions\n",
    "\n",
    "file='data/personality-01.txt'\n",
    "response = natural_language_understanding.analyze(\n",
    "    text= open(file, \"r\").read(),\n",
    "    features=Features(emotion=EmotionOptions(targets=['libraries','books']))).get_result()\n",
    "\n",
    "print(json.dumps(response, indent=2))"
   ]
  },
  {
   "cell_type": "code",
   "execution_count": null,
   "metadata": {},
   "outputs": [],
   "source": []
  }
 ],
 "metadata": {
  "kernelspec": {
   "display_name": "Python 3",
   "language": "python",
   "name": "python3"
  },
  "language_info": {
   "codemirror_mode": {
    "name": "ipython",
    "version": 3
   },
   "file_extension": ".py",
   "mimetype": "text/x-python",
   "name": "python",
   "nbconvert_exporter": "python",
   "pygments_lexer": "ipython3",
   "version": "3.7.3"
  }
 },
 "nbformat": 4,
 "nbformat_minor": 2
}
