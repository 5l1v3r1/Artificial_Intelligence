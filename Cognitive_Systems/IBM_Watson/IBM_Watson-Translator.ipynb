{
 "cells": [
  {
   "cell_type": "markdown",
   "metadata": {},
   "source": [
    "# IBM Watson Translator"
   ]
  },
  {
   "cell_type": "markdown",
   "metadata": {},
   "source": [
    "## Leitura da api-key\n",
    "### Acesse: https://console.bluemix.net/catalog/?search=label:lite&category=ai\n",
    "### E Crie a api-key do aplicativo: Language Translator"
   ]
  },
  {
   "cell_type": "code",
   "execution_count": null,
   "metadata": {},
   "outputs": [],
   "source": [
    "# descompacte o arquivo apikey-translator.zip\n",
    "#!unzip apikey-translator.zip # forneça a senha"
   ]
  },
  {
   "cell_type": "code",
   "execution_count": 2,
   "metadata": {},
   "outputs": [],
   "source": [
    "import json\n",
    "def read_apikey():\n",
    "    with open('apikey-translator.json', 'r') as f:\n",
    "        key = json.load(f)\n",
    "    return key['API_KEY']"
   ]
  },
  {
   "cell_type": "markdown",
   "metadata": {},
   "source": [
    "# IBM Watson Translator"
   ]
  },
  {
   "cell_type": "code",
   "execution_count": 3,
   "metadata": {},
   "outputs": [
    {
     "name": "stdout",
     "output_type": "stream",
     "text": [
      "{\n",
      "  \"translations\": [\n",
      "    {\n",
      "      \"translation\": \"Olá!\"\n",
      "    }\n",
      "  ],\n",
      "  \"word_count\": 1,\n",
      "  \"character_count\": 5\n",
      "}\n",
      "Olá!\n"
     ]
    }
   ],
   "source": [
    "# coding=utf-8\n",
    "from __future__ import print_function\n",
    "import json\n",
    "from ibm_watson import LanguageTranslatorV3\n",
    "\n",
    "language_translator = LanguageTranslatorV3(\n",
    "    version='2018-05-01',\n",
    "    ### url is optional, and defaults to the URL below. Use the correct URL for your region.\n",
    "    # url='https://gateway.watsonplatform.net/language-translator/api',\n",
    "    iam_apikey=read_apikey())\n",
    "\n",
    "## Translate\n",
    "translation = language_translator.translate(\n",
    "    text='Hello', model_id='en-pt').get_result()\n",
    "print(json.dumps(translation, indent=2, ensure_ascii=False))\n",
    "\n",
    "translation_sentence = translation[\"translations\"][0][\"translation\"]\n",
    "print(translation_sentence)\n",
    "\n",
    "# List identifiable languages\n",
    "# languages = language_translator.list_identifiable_languages().get_result()\n",
    "# print(json.dumps(languages, indent=2))\n",
    "\n",
    "# # Identify\n",
    "# language = language_translator.identify(\n",
    "#     'Language translator translates text from one language to another').get_result()\n",
    "# print(json.dumps(language, indent=2))\n",
    "\n",
    "# # List models\n",
    "# models = language_translator.list_models(\n",
    "#     source='en').get_result()\n",
    "# print(json.dumps(models, indent=2))\n",
    "\n",
    "# # Create model\n",
    "# with open('glossary.tmx', 'rb') as glossary:\n",
    "#     response = language_translator.create_model(\n",
    "#         base_model_id='en-es',\n",
    "#         name='custom-english-to-spanish',\n",
    "#         forced_glossary=glossary).get_result()\n",
    "#     print(json.dumps(response, indent=2))\n",
    "\n",
    "# # Delete model\n",
    "# response = language_translator.delete_model(model_id='<YOUR MODEL ID>').get_result()\n",
    "# print(json.dumps(response, indent=2))\n",
    "\n",
    "# # Get model details\n",
    "# model = language_translator.get_model(model_id='<YOUR MODEL ID>').get_result()\n",
    "# print(json.dumps(model, indent=2))"
   ]
  },
  {
   "cell_type": "code",
   "execution_count": 4,
   "metadata": {},
   "outputs": [],
   "source": [
    "def translate_sentence(sentence, language_original, language_destination):\n",
    "    model_translate = language_original + '-' + language_destination\n",
    "    translation = language_translator.translate(text=sentence, model_id=model_translate).get_result()\n",
    "    return translation[\"translations\"][0][\"translation\"]"
   ]
  },
  {
   "cell_type": "code",
   "execution_count": 9,
   "metadata": {},
   "outputs": [
    {
     "name": "stdout",
     "output_type": "stream",
     "text": [
      "Vamos sair de férias amanhã.\n",
      "Eu liguei para ela, mas ela não estava lá.\n",
      "Você estudou latim na escola?\n"
     ]
    }
   ],
   "source": [
    "sentences_en = ['We’re going on holiday tomorrow.', \n",
    "                'I phoned her but she wasn’t there.',\n",
    "                'Did you study Latin at school?'\n",
    "                ]\n",
    "\n",
    "for sentence in sentences_en:\n",
    "    print(translate_sentence(sentence, 'en', 'pt'))"
   ]
  },
  {
   "cell_type": "code",
   "execution_count": 10,
   "metadata": {},
   "outputs": [
    {
     "name": "stdout",
     "output_type": "stream",
     "text": [
      "Nothing is as much ours as our dreams\n",
      "The day is rainy\n",
      "We have to study\n"
     ]
    }
   ],
   "source": [
    "sentences_pt = ['Nada é tão nosso, quanto nossos sonhos', \n",
    "                'O dia está chuvoso', \n",
    "                'Temos que estudar']\n",
    "for sentence in sentences_pt:\n",
    "    print(translate_sentence(sentence, 'pt', 'en'))"
   ]
  },
  {
   "cell_type": "code",
   "execution_count": null,
   "metadata": {},
   "outputs": [],
   "source": []
  }
 ],
 "metadata": {
  "kernelspec": {
   "display_name": "Python 3",
   "language": "python",
   "name": "python3"
  },
  "language_info": {
   "codemirror_mode": {
    "name": "ipython",
    "version": 3
   },
   "file_extension": ".py",
   "mimetype": "text/x-python",
   "name": "python",
   "nbconvert_exporter": "python",
   "pygments_lexer": "ipython3",
   "version": "3.7.3"
  }
 },
 "nbformat": 4,
 "nbformat_minor": 2
}
