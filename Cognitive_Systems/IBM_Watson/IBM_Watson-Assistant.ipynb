{
 "cells": [
  {
   "cell_type": "markdown",
   "metadata": {},
   "source": [
    "# IBM Watson Assistant"
   ]
  },
  {
   "cell_type": "markdown",
   "metadata": {},
   "source": [
    "## Leitura da api-key\n",
    "### Acesse: https://console.bluemix.net/catalog/?search=label:lite&category=ai\n",
    "### E Crie a api-key do aplicativo: Watson Assistant"
   ]
  },
  {
   "cell_type": "code",
   "execution_count": 1,
   "metadata": {},
   "outputs": [],
   "source": [
    "# descompacte o arquivo api-keys.zip\n",
    "#!unzip api-keys.zip # forneça a senha"
   ]
  },
  {
   "cell_type": "code",
   "execution_count": 2,
   "metadata": {},
   "outputs": [],
   "source": [
    "import json\n",
    "def read_apikey():\n",
    "    with open('data/apikey-watsonassistant.json', 'r') as f:\n",
    "        key = json.load(f)\n",
    "        #print(key)\n",
    "    return key['API_KEY']\n",
    "#read_apikey()"
   ]
  },
  {
   "cell_type": "markdown",
   "metadata": {},
   "source": [
    "# IBM Watson Assistant"
   ]
  },
  {
   "cell_type": "code",
   "execution_count": 3,
   "metadata": {},
   "outputs": [
    {
     "name": "stdout",
     "output_type": "stream",
     "text": [
      "{\n",
      "  \"intents\": [\n",
      "    {\n",
      "      \"intent\": \"Customer_Care_Store_Location\",\n",
      "      \"confidence\": 0.9222838878631592\n",
      "    }\n",
      "  ],\n",
      "  \"entities\": [\n",
      "    {\n",
      "      \"entity\": \"office_suprimentos\",\n",
      "      \"location\": [\n",
      "        14,\n",
      "        19\n",
      "      ],\n",
      "      \"value\": \"cartucho\",\n",
      "      \"confidence\": 1\n",
      "    }\n",
      "  ],\n",
      "  \"input\": {\n",
      "    \"text\": \"onde encontro tinta\"\n",
      "  },\n",
      "  \"output\": {\n",
      "    \"generic\": [\n",
      "      {\n",
      "        \"response_type\": \"text\",\n",
      "        \"text\": \"Os produtos cartucho est\\u00e3o na se\\u00e7\\u00e3o escrit\\u00f3rio em nosso website.\"\n",
      "      }\n",
      "    ],\n",
      "    \"text\": [\n",
      "      \"Os produtos cartucho est\\u00e3o na se\\u00e7\\u00e3o escrit\\u00f3rio em nosso website.\"\n",
      "    ],\n",
      "    \"nodes_visited\": [\n",
      "      \"node_2_1555939879510\",\n",
      "      \"node_4_1555940100890\"\n",
      "    ],\n",
      "    \"log_messages\": []\n",
      "  },\n",
      "  \"context\": {\n",
      "    \"conversation_id\": \"4a55e565-6730-4105-be25-8126ef0b6951\",\n",
      "    \"system\": {\n",
      "      \"initialized\": true,\n",
      "      \"dialog_stack\": [\n",
      "        {\n",
      "          \"dialog_node\": \"root\"\n",
      "        }\n",
      "      ],\n",
      "      \"dialog_turn_counter\": 1,\n",
      "      \"dialog_request_counter\": 1,\n",
      "      \"_node_output_map\": {\n",
      "        \"node_4_1555940100890\": {\n",
      "          \"0\": [\n",
      "            0\n",
      "          ]\n",
      "        }\n",
      "      },\n",
      "      \"branch_exited\": true,\n",
      "      \"branch_exited_reason\": \"completed\"\n",
      "    }\n",
      "  }\n",
      "}\n"
     ]
    }
   ],
   "source": [
    "import json\n",
    "import ibm_watson\n",
    "\n",
    "assistant = ibm_watson.AssistantV1(\n",
    "    version='2019-02-28',\n",
    "    iam_apikey=read_apikey(),\n",
    "    url='https://gateway.watsonplatform.net/assistant/api'\n",
    ")\n",
    "\n",
    "response = assistant.message(\n",
    "    workspace_id='2a05f598-58c2-4f2e-89b2-50a3d000d189',\n",
    "    input={\n",
    "        'text': 'onde encontro tinta'\n",
    "    }\n",
    ").get_result()\n",
    "\n",
    "print(json.dumps(response, indent=2))"
   ]
  },
  {
   "cell_type": "code",
   "execution_count": 8,
   "metadata": {},
   "outputs": [],
   "source": [
    "def pergunta_ao_assistente(pergunta):\n",
    "    response = assistant.message(\n",
    "        workspace_id='2a05f598-58c2-4f2e-89b2-50a3d000d189',\n",
    "        input={\n",
    "            'text': pergunta\n",
    "        }\n",
    "    ).get_result()\n",
    "    \n",
    "    resposta = response[\"output\"][\"text\"][0]\n",
    "    print('Você:', pergunta)\n",
    "    print('IBM Watson Assistente:', resposta)\n",
    "    return resposta"
   ]
  },
  {
   "cell_type": "code",
   "execution_count": 9,
   "metadata": {},
   "outputs": [
    {
     "name": "stdout",
     "output_type": "stream",
     "text": [
      "Você: onde encontro celular?\n",
      "IBM Watson Assistente: Você encontra celular na seção de produtos eletrônicos em nosso website.\n"
     ]
    }
   ],
   "source": [
    "pergunta = 'onde encontro celular?'\n",
    "resposta = pergunta_ao_assistente(pergunta)"
   ]
  },
  {
   "cell_type": "code",
   "execution_count": 10,
   "metadata": {},
   "outputs": [
    {
     "name": "stdout",
     "output_type": "stream",
     "text": [
      "Você: Qual o horário da loja?\n",
      "IBM Watson Assistente: Nossa loja física funciona das 9 às 18h. Mas nosso website funciona 24x7.\n"
     ]
    }
   ],
   "source": [
    "pergunta = 'Qual o horário da loja?'\n",
    "resposta = pergunta_ao_assistente(pergunta)"
   ]
  },
  {
   "cell_type": "code",
   "execution_count": 11,
   "metadata": {},
   "outputs": [
    {
     "name": "stdout",
     "output_type": "stream",
     "text": [
      "Você: Abre nos feriados?\n",
      "IBM Watson Assistente: Eu não entendi. Você pode tentar reformular a frase.\n"
     ]
    }
   ],
   "source": [
    "pergunta = 'Abre nos feriados?'\n",
    "resposta = pergunta_ao_assistente(pergunta)"
   ]
  },
  {
   "cell_type": "code",
   "execution_count": 12,
   "metadata": {},
   "outputs": [
    {
     "name": "stdout",
     "output_type": "stream",
     "text": [
      "Você: A loja funciona na páscoa?\n",
      "IBM Watson Assistente: Nossa loja física funciona das 9 às 18h. Mas nosso website funciona 24x7.\n"
     ]
    }
   ],
   "source": [
    "pergunta = 'A loja funciona na páscoa?'\n",
    "resposta = pergunta_ao_assistente(pergunta)"
   ]
  },
  {
   "cell_type": "code",
   "execution_count": null,
   "metadata": {},
   "outputs": [],
   "source": []
  }
 ],
 "metadata": {
  "kernelspec": {
   "display_name": "Python 3",
   "language": "python",
   "name": "python3"
  },
  "language_info": {
   "codemirror_mode": {
    "name": "ipython",
    "version": 3
   },
   "file_extension": ".py",
   "mimetype": "text/x-python",
   "name": "python",
   "nbconvert_exporter": "python",
   "pygments_lexer": "ipython3",
   "version": "3.7.3"
  }
 },
 "nbformat": 4,
 "nbformat_minor": 2
}
