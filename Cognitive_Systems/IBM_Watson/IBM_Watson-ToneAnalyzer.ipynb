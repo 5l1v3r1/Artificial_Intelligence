{
 "cells": [
  {
   "cell_type": "markdown",
   "metadata": {},
   "source": [
    "# IBM Watson Tone Analyzer"
   ]
  },
  {
   "cell_type": "markdown",
   "metadata": {},
   "source": [
    "## Leitura da api-key\n",
    "### Acesse: https://console.bluemix.net/catalog/?search=label:lite&category=ai\n",
    "### E Crie a api-key do aplicativo: Tone Analyzer"
   ]
  },
  {
   "cell_type": "code",
   "execution_count": 1,
   "metadata": {},
   "outputs": [],
   "source": [
    "# descompacte o arquivo apikey-translator.zip\n",
    "#!unzip apikey-toneanalyzer.zip # forneça a senha"
   ]
  },
  {
   "cell_type": "code",
   "execution_count": 2,
   "metadata": {},
   "outputs": [],
   "source": [
    "import json\n",
    "def read_apikey():\n",
    "    with open('apikey-toneanalyzer.json', 'r') as f:\n",
    "        key = json.load(f)\n",
    "    return key['API_KEY']"
   ]
  },
  {
   "cell_type": "markdown",
   "metadata": {},
   "source": [
    "# IBM Watson Tone Analyzer"
   ]
  },
  {
   "cell_type": "code",
   "execution_count": 3,
   "metadata": {},
   "outputs": [
    {
     "name": "stdout",
     "output_type": "stream",
     "text": [
      "{\n",
      "  \"document_tone\": {\n",
      "    \"tones\": [\n",
      "      {\n",
      "        \"score\": 0.6165,\n",
      "        \"tone_id\": \"sadness\",\n",
      "        \"tone_name\": \"Sadness\"\n",
      "      },\n",
      "      {\n",
      "        \"score\": 0.829888,\n",
      "        \"tone_id\": \"analytical\",\n",
      "        \"tone_name\": \"Analytical\"\n",
      "      }\n",
      "    ]\n",
      "  },\n",
      "  \"sentences_tone\": [\n",
      "    {\n",
      "      \"sentence_id\": 0,\n",
      "      \"text\": \"Team, I know that times are tough!\",\n",
      "      \"tones\": [\n",
      "        {\n",
      "          \"score\": 0.801827,\n",
      "          \"tone_id\": \"analytical\",\n",
      "          \"tone_name\": \"Analytical\"\n",
      "        }\n",
      "      ]\n",
      "    },\n",
      "    {\n",
      "      \"sentence_id\": 1,\n",
      "      \"text\": \"Product sales have been disappointing for the past three quarters.\",\n",
      "      \"tones\": [\n",
      "        {\n",
      "          \"score\": 0.771241,\n",
      "          \"tone_id\": \"sadness\",\n",
      "          \"tone_name\": \"Sadness\"\n",
      "        },\n",
      "        {\n",
      "          \"score\": 0.687768,\n",
      "          \"tone_id\": \"analytical\",\n",
      "          \"tone_name\": \"Analytical\"\n",
      "        }\n",
      "      ]\n",
      "    },\n",
      "    {\n",
      "      \"sentence_id\": 2,\n",
      "      \"text\": \"We have a competitive product, but we need to do a better job of selling it!\",\n",
      "      \"tones\": [\n",
      "        {\n",
      "          \"score\": 0.506763,\n",
      "          \"tone_id\": \"analytical\",\n",
      "          \"tone_name\": \"Analytical\"\n",
      "        }\n",
      "      ]\n",
      "    }\n",
      "  ]\n",
      "}\n"
     ]
    }
   ],
   "source": [
    "import json\n",
    "from ibm_watson import ToneAnalyzerV3\n",
    "\n",
    "tone_analyzer = ToneAnalyzerV3(\n",
    "    version='2017-09-21',\n",
    "    iam_apikey=read_apikey(),\n",
    "    url=\"https://gateway.watsonplatform.net/tone-analyzer/api\"\n",
    ")\n",
    "\n",
    "text = 'Team, I know that times are tough! Product '\\\n",
    "    'sales have been disappointing for the past three '\\\n",
    "    'quarters. We have a competitive product, but we '\\\n",
    "    'need to do a better job of selling it!'\n",
    "\n",
    "tone_analysis = tone_analyzer.tone(\n",
    "    {'text': text},\n",
    "    content_type='application/json'\n",
    ").get_result()\n",
    "print(json.dumps(tone_analysis, indent=2))"
   ]
  },
  {
   "cell_type": "code",
   "execution_count": 4,
   "metadata": {},
   "outputs": [],
   "source": [
    "def tone_analyzer_complete_sentence(text):\n",
    "    tone_analysis = tone_analyzer.tone(\n",
    "    {'text': text},\n",
    "    content_type='application/json').get_result()\n",
    "    return json.dumps(tone_analysis, indent=2)\n",
    "\n",
    "def tone_analyzer_sentence(text):\n",
    "    tone_analysis = tone_analyzer.tone(\n",
    "    {'text': text},\n",
    "    content_type='application/json').get_result()\n",
    "    #print(tone_analysis)\n",
    "    \n",
    "    if len(tone_analysis['document_tone']['tones']) > 0:\n",
    "        # get the max score\n",
    "        max_score = -1\n",
    "        tone_name = None\n",
    "        for tone in tone_analysis['document_tone']['tones']:\n",
    "            if tone['score'] > max_score:\n",
    "                max_score = tone['score']\n",
    "                tone_name = tone['tone_name']\n",
    "    else:\n",
    "        tone = None\n",
    "        max_score = 0\n",
    "            \n",
    "    #tone = tone_analysis[\"sentences_tone\"][0][\"tone_name\"]\n",
    "    #score = tone_analysis[\"sentences_tone\"][0][\"score\"]\n",
    "    return tone_name, max_score"
   ]
  },
  {
   "cell_type": "code",
   "execution_count": 5,
   "metadata": {},
   "outputs": [
    {
     "name": "stdout",
     "output_type": "stream",
     "text": [
      "('Joy', 0.650946)\n",
      "('Analytical', 0.802429)\n",
      "('Analytical', 0.896183)\n",
      "('Joy', 0.948233)\n",
      "('Sadness', 0.531107)\n",
      "('Analytical', 0.862286)\n"
     ]
    }
   ],
   "source": [
    "sentences_en = [\n",
    "    \"We’re going on holiday tomorrow because I'm fell good\",\n",
    "    \"Did you study Latin at school? If you don't, you'll get bad\",\n",
    "    'Team, I know that times are tough! Product sales have been disappointing for the past three quarters.',\n",
    "    \"New Year time is here. I hope you have a wonderful New Year. May every day hold happy hours for you.\",\n",
    "    \"Unfortunately, this story had no happy ending because the political opening was so short-lived.\",\n",
    "    \"I'm thinking all the day if I would do the exam\"\n",
    "]\n",
    "\n",
    "for sentence in sentences_en:\n",
    "    print(tone_analyzer_sentence(sentence))"
   ]
  },
  {
   "cell_type": "code",
   "execution_count": 6,
   "metadata": {},
   "outputs": [
    {
     "name": "stdout",
     "output_type": "stream",
     "text": [
      "{\n",
      "  \"document_tone\": {\n",
      "    \"tones\": [\n",
      "      {\n",
      "        \"score\": 0.55459,\n",
      "        \"tone_id\": \"fear\",\n",
      "        \"tone_name\": \"Fear\"\n",
      "      },\n",
      "      {\n",
      "        \"score\": 0.825035,\n",
      "        \"tone_id\": \"confident\",\n",
      "        \"tone_name\": \"Confident\"\n",
      "      },\n",
      "      {\n",
      "        \"score\": 0.862286,\n",
      "        \"tone_id\": \"analytical\",\n",
      "        \"tone_name\": \"Analytical\"\n",
      "      }\n",
      "    ]\n",
      "  }\n",
      "}\n"
     ]
    }
   ],
   "source": [
    "print(tone_analyzer_complete_sentence( \"I'm thinking all the day if I would do the exam\"))"
   ]
  },
  {
   "cell_type": "code",
   "execution_count": 7,
   "metadata": {},
   "outputs": [
    {
     "name": "stdout",
     "output_type": "stream",
     "text": [
      "{\n",
      "  \"document_tone\": {\n",
      "    \"tones\": [\n",
      "      {\n",
      "        \"score\": 0.531107,\n",
      "        \"tone_id\": \"sadness\",\n",
      "        \"tone_name\": \"Sadness\"\n",
      "      }\n",
      "    ]\n",
      "  }\n",
      "}\n"
     ]
    }
   ],
   "source": [
    "print(tone_analyzer_complete_sentence(\n",
    "    \"Unfortunately, this story had no happy ending because the political opening was so short-lived.\"))"
   ]
  },
  {
   "cell_type": "code",
   "execution_count": 8,
   "metadata": {},
   "outputs": [
    {
     "name": "stdout",
     "output_type": "stream",
     "text": [
      "{\n",
      "  \"document_tone\": {\n",
      "    \"tones\": [\n",
      "      {\n",
      "        \"score\": 0.563328,\n",
      "        \"tone_id\": \"sadness\",\n",
      "        \"tone_name\": \"Sadness\"\n",
      "      },\n",
      "      {\n",
      "        \"score\": 0.802429,\n",
      "        \"tone_id\": \"analytical\",\n",
      "        \"tone_name\": \"Analytical\"\n",
      "      }\n",
      "    ]\n",
      "  },\n",
      "  \"sentences_tone\": [\n",
      "    {\n",
      "      \"sentence_id\": 0,\n",
      "      \"text\": \"Did you study Latin at school?\",\n",
      "      \"tones\": []\n",
      "    },\n",
      "    {\n",
      "      \"sentence_id\": 1,\n",
      "      \"text\": \"If you don't, you'll get bad\",\n",
      "      \"tones\": [\n",
      "        {\n",
      "          \"score\": 0.661721,\n",
      "          \"tone_id\": \"sadness\",\n",
      "          \"tone_name\": \"Sadness\"\n",
      "        },\n",
      "        {\n",
      "          \"score\": 0.842108,\n",
      "          \"tone_id\": \"analytical\",\n",
      "          \"tone_name\": \"Analytical\"\n",
      "        }\n",
      "      ]\n",
      "    }\n",
      "  ]\n",
      "}\n"
     ]
    }
   ],
   "source": [
    "print(tone_analyzer_complete_sentence(\n",
    "    \"Did you study Latin at school? If you don't, you'll get bad\"))"
   ]
  },
  {
   "cell_type": "code",
   "execution_count": null,
   "metadata": {},
   "outputs": [],
   "source": []
  }
 ],
 "metadata": {
  "kernelspec": {
   "display_name": "Python 3",
   "language": "python",
   "name": "python3"
  },
  "language_info": {
   "codemirror_mode": {
    "name": "ipython",
    "version": 3
   },
   "file_extension": ".py",
   "mimetype": "text/x-python",
   "name": "python",
   "nbconvert_exporter": "python",
   "pygments_lexer": "ipython3",
   "version": "3.7.3"
  }
 },
 "nbformat": 4,
 "nbformat_minor": 2
}
