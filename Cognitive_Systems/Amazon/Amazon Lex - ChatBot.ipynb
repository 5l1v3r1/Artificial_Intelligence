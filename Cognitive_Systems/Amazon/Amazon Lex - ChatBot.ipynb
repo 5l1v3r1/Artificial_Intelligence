{
 "cells": [
  {
   "cell_type": "markdown",
   "metadata": {},
   "source": [
    "# Amazon Lex - ChatBot"
   ]
  },
  {
   "cell_type": "markdown",
   "metadata": {},
   "source": [
    "Primeiro configure as Credenciais do Amazon AWS:\n",
    "1. Your Security Credentials -> Create New Acess Key\n",
    "2. Coloque no arquivo: ~/.aws/credentials (use pico ~/.aws/credentials ) <br>\n",
    "    [default] <br>\n",
    "    aws_access_key_id = XXXXXXXXXXXXXXXQ <br>\n",
    "    aws_secret_access_key = XXXXXXXXXXXXXXSXXXXX <br>\n",
    "3. Coloque no arquivo:  ~/.aws/config (use pico ~/.aws/config ) <br>\n",
    "    [default] <br>\n",
    "    region=us-east-1 <br>"
   ]
  },
  {
   "cell_type": "code",
   "execution_count": 10,
   "metadata": {},
   "outputs": [
    {
     "name": "stdout",
     "output_type": "stream",
     "text": [
      "usuario:  Hi there\n",
      "Amazon LEX:  Hi there what's your name\n"
     ]
    }
   ],
   "source": [
    "import boto3\n",
    "\n",
    "client = boto3.client('lex-runtime')\n",
    "\n",
    "inputText = 'Hi there'\n",
    "\n",
    "response = client.post_text(\n",
    "    botName='Bot_Amazon',\n",
    "    botAlias='TestBotNEW',\n",
    "    userId='8425-9960-2282',\n",
    "    sessionAttributes={\n",
    "        'string': 'string'\n",
    "    },\n",
    "    requestAttributes={\n",
    "        'string': 'string'\n",
    "    },\n",
    "    inputText=inputText\n",
    ")\n",
    "\n",
    "print('usuario: ', inputText)\n",
    "print('Amazon LEX: ',response['message'])"
   ]
  },
  {
   "cell_type": "code",
   "execution_count": 11,
   "metadata": {},
   "outputs": [],
   "source": [
    "def chatbot_lex(Text):\n",
    "    response = client.post_text(\n",
    "    botName='Bot_Amazon',\n",
    "    botAlias='TestBotNEW',\n",
    "    userId='8425-9960-2282',\n",
    "    sessionAttributes={\n",
    "        'string': 'string'\n",
    "    },\n",
    "    requestAttributes={\n",
    "        'string': 'string'\n",
    "    },\n",
    "    inputText=Text\n",
    "    )\n",
    "\n",
    "    print('usuario: ', Text)\n",
    "    print('Amazon LEX: ',response['message'])"
   ]
  },
  {
   "cell_type": "code",
   "execution_count": 14,
   "metadata": {},
   "outputs": [
    {
     "name": "stdout",
     "output_type": "stream",
     "text": [
      "usuario:  Hi there\n",
      "Amazon LEX:  Hello, why should I call you\n",
      "\n",
      "usuario:  My name is Vladimir\n",
      "Amazon LEX:  Hi Vladimir, how can I do for you\n",
      "\n",
      "usuario:  what's your name\n",
      "Amazon LEX:  It's nice\n",
      "\n"
     ]
    }
   ],
   "source": [
    "chat = ['Hi there',\n",
    "        'My name is Vladimir',\n",
    "        \"what's your name\"\n",
    "       ]\n",
    "    \n",
    "for text in chat:\n",
    "    chatbot_lex(text)\n",
    "    print()\n",
    "    #print(text)"
   ]
  },
  {
   "cell_type": "code",
   "execution_count": null,
   "metadata": {},
   "outputs": [],
   "source": []
  }
 ],
 "metadata": {
  "kernelspec": {
   "display_name": "Python 3",
   "language": "python",
   "name": "python3"
  },
  "language_info": {
   "codemirror_mode": {
    "name": "ipython",
    "version": 3
   },
   "file_extension": ".py",
   "mimetype": "text/x-python",
   "name": "python",
   "nbconvert_exporter": "python",
   "pygments_lexer": "ipython3",
   "version": "3.7.3"
  }
 },
 "nbformat": 4,
 "nbformat_minor": 2
}
